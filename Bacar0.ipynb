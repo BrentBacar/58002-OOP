{
  "nbformat": 4,
  "nbformat_minor": 0,
  "metadata": {
    "colab": {
      "provenance": [],
      "authorship_tag": "ABX9TyMUs4kBWr62YLkJQ+nlUXIm",
      "include_colab_link": true
    },
    "kernelspec": {
      "name": "python3",
      "display_name": "Python 3"
    },
    "language_info": {
      "name": "python"
    }
  },
  "cells": [
    {
      "cell_type": "markdown",
      "metadata": {
        "id": "view-in-github",
        "colab_type": "text"
      },
      "source": [
        "<a href=\"https://colab.research.google.com/github/BrentBacar/58002-OOP/blob/main/Bacar0.ipynb\" target=\"_parent\"><img src=\"https://colab.research.google.com/assets/colab-badge.svg\" alt=\"Open In Colab\"/></a>"
      ]
    },
    {
      "cell_type": "code",
      "execution_count": 9,
      "metadata": {
        "colab": {
          "base_uri": "https://localhost:8080/"
        },
        "id": "C4rrngOyxsov",
        "outputId": "f1b65184-6d36-4ef7-c97d-5228a154c910"
      },
      "outputs": [
        {
          "output_type": "stream",
          "name": "stdout",
          "text": [
            "1\n",
            "5\n",
            "maria\n",
            "maria\n",
            "maria\n",
            "1\n",
            "2\n",
            "3\n"
          ]
        },
        {
          "output_type": "execute_result",
          "data": {
            "text/plain": [
              "5.0"
            ]
          },
          "metadata": {},
          "execution_count": 9
        }
      ],
      "source": [
        "#single variable with single value \n",
        "x=1\n",
        "y=5\n",
        "print(x)\n",
        "print(y)\n",
        "\n",
        "#multiple variable wiht single value \n",
        "a=b=c=\"maria\"\n",
        "print(a)\n",
        "print(b)\n",
        "print(c)\n",
        "\n",
        "#multiple variable with multiple values \n",
        "e,f,g=1,2,3\n",
        "print(e)\n",
        "print(f)\n",
        "print(g)\n",
        "\n",
        "\n",
        "\n",
        "#casting\n",
        "p=float(5)\n",
        "p"
      ]
    },
    {
      "cell_type": "code",
      "source": [
        "f=\"ana\"\n",
        "g=4.56\n",
        "print(type(f))\n",
        "print(type(g))\n"
      ],
      "metadata": {
        "id": "Vcf5id4j19zd"
      },
      "execution_count": null,
      "outputs": []
    },
    {
      "cell_type": "markdown",
      "source": [],
      "metadata": {
        "id": "pRKWeaGX3BBF"
      }
    },
    {
      "cell_type": "code",
      "source": [
        "k=\"enjoying\"\n",
        "j=\"python programming is \"\n",
        "print(j +k)\n"
      ],
      "metadata": {
        "colab": {
          "base_uri": "https://localhost:8080/"
        },
        "id": "8dP83bZ13Bo1",
        "outputId": "c2af57d6-278e-4f46-dbab-cb1920ca62ed"
      },
      "execution_count": 19,
      "outputs": [
        {
          "output_type": "stream",
          "name": "stdout",
          "text": [
            "python programming is enjoying\n"
          ]
        }
      ]
    }
  ]
}