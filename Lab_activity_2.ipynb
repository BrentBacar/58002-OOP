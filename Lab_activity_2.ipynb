{
  "nbformat": 4,
  "nbformat_minor": 0,
  "metadata": {
    "colab": {
      "provenance": [],
      "authorship_tag": "ABX9TyNNns88xdNTEownuVCMEveb",
      "include_colab_link": true
    },
    "kernelspec": {
      "name": "python3",
      "display_name": "Python 3"
    },
    "language_info": {
      "name": "python"
    }
  },
  "cells": [
    {
      "cell_type": "markdown",
      "metadata": {
        "id": "view-in-github",
        "colab_type": "text"
      },
      "source": [
        "<a href=\"https://colab.research.google.com/github/BrentBacar/58002-OOP/blob/main/Lab_activity_2.ipynb\" target=\"_parent\"><img src=\"https://colab.research.google.com/assets/colab-badge.svg\" alt=\"Open In Colab\"/></a>"
      ]
    },
    {
      "cell_type": "markdown",
      "source": [
        "Write a Python program that asks the user to enter the radius of a circle and solve its area and perimeter.:"
      ],
      "metadata": {
        "id": "f53Wl8GjAWZS"
      }
    },
    {
      "cell_type": "code",
      "source": [
        "import math\n",
        "\n",
        "radius = float(input(\"Enter the radius of the circle: \"))\n",
        "\n",
        "perimeter = 2 * math.pi * radius\n",
        "\n",
        "area = math.pi * radius ** 2\n",
        "\n",
        "print(f\"The area of the circle is {area:.2f}\")\n",
        "\n",
        "print(f\"The perimeter of the circle is {perimeter:.2f}\")\n"
      ],
      "metadata": {
        "colab": {
          "base_uri": "https://localhost:8080/"
        },
        "id": "01IzqQiIAaZ1",
        "outputId": "aaeabf96-8be1-47c7-d0f7-0cf3c395cd72"
      },
      "execution_count": 2,
      "outputs": [
        {
          "output_type": "stream",
          "name": "stdout",
          "text": [
            "Enter the radius of the circle: 4\n",
            "The area of the circle is 50.27\n",
            "The perimeter of the circle is 25.13\n"
          ]
        }
      ]
    },
    {
      "cell_type": "markdown",
      "source": [
        "Create a class name Circle allowing you to build a circle with radius and pi attributes."
      ],
      "metadata": {
        "id": "wHJSgk1SAdSD"
      }
    },
    {
      "cell_type": "code",
      "source": [
        "class Circle:\n",
        "    def __init__(self, radius, pi=3.14159):\n",
        "        self.radius = radius\n",
        "        self.pi = pi\n",
        "\n",
        "\n",
        "    def perimeter(self):\n",
        "        return 2 * self.pi * self.radius\n",
        "\n",
        "    def area(self):\n",
        "        return self.pi * self.radius ** 2\n",
        "\n",
        "circle = Circle(4)\n",
        "\n",
        "print(\"Perimeter:\", circle.perimeter())\n",
        "\n",
        "print(\"Area:\", circle.area())"
      ],
      "metadata": {
        "colab": {
          "base_uri": "https://localhost:8080/"
        },
        "id": "WewGRfi4AmaL",
        "outputId": "c294bf19-0e75-4388-af06-a62d16063217"
      },
      "execution_count": 8,
      "outputs": [
        {
          "output_type": "stream",
          "name": "stdout",
          "text": [
            "Perimeter: 25.13272\n",
            "Area: 50.26544\n"
          ]
        }
      ]
    },
    {
      "cell_type": "markdown",
      "source": [
        "Create a method Display() the perimeter and area using an instantiation of a class"
      ],
      "metadata": {
        "id": "yT1Az00bApR8"
      }
    },
    {
      "cell_type": "code",
      "source": [
        "class Circle:\n",
        "    def __init__(self, radius, pi=3.14159):\n",
        "        self.radius = radius\n",
        "        self.pi = pi\n",
        "    \n",
        "    def area(self):\n",
        "        return self.pi * (self.radius ** 2)\n",
        "    \n",
        "    \n",
        "    def circumference(self):\n",
        "        return 2 * self.pi * self.radius\n",
        "    \n",
        "\n",
        "    def Display(self):\n",
        "        print(\"Radius:\", self.radius)\n",
        "        print(\"Area:\", self.area())\n",
        "        print(\"Perimeter:\", self.circumference())\n",
        "\n",
        "my_circle = Circle(10)\n",
        "\n",
        "my_circle.Display()"
      ],
      "metadata": {
        "colab": {
          "base_uri": "https://localhost:8080/"
        },
        "id": "ko9yMUaGAthc",
        "outputId": "3ef82e54-e9c5-4a37-9bf3-0dba1a51178b"
      },
      "execution_count": 9,
      "outputs": [
        {
          "output_type": "stream",
          "name": "stdout",
          "text": [
            "Radius: 10\n",
            "Area: 314.159\n",
            "Perimeter: 62.8318\n"
          ]
        }
      ]
    },
    {
      "cell_type": "markdown",
      "source": [
        "Create a Perimeter() method to calculate the perimeter of the circle and an Area() method to calculate the area of the circle"
      ],
      "metadata": {
        "id": "oct3K6vIAxZw"
      }
    },
    {
      "cell_type": "code",
      "source": [
        "import math\n",
        "\n",
        "class Circle:\n",
        "    def __init__(self, radius):\n",
        "        self.radius = radius\n",
        "    \n",
        "\n",
        "    def perimeter(self):\n",
        "        return 2 * math.pi * self.radius\n",
        "    \n",
        "\n",
        "    def area(self):\n",
        "        return math.pi * self.radius ** 2\n",
        "\n",
        "circle = Circle(3)\n",
        "\n",
        "print(\"Perimeter:\", circle.perimeter()) \n",
        "\n",
        "print(\"Area:\", circle.area())"
      ],
      "metadata": {
        "colab": {
          "base_uri": "https://localhost:8080/"
        },
        "id": "LPvYvhQSBJs9",
        "outputId": "426c6a1c-0f82-473c-814a-916e96c325a4"
      },
      "execution_count": 7,
      "outputs": [
        {
          "output_type": "stream",
          "name": "stdout",
          "text": [
            "Perimeter: 18.84955592153876\n",
            "Area: 28.274333882308138\n"
          ]
        }
      ]
    }
  ]
}