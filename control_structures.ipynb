{
  "nbformat": 4,
  "nbformat_minor": 0,
  "metadata": {
    "colab": {
      "provenance": [],
      "authorship_tag": "ABX9TyNOvy9+faBfN3DSG7XaX+ns",
      "include_colab_link": true
    },
    "kernelspec": {
      "name": "python3",
      "display_name": "Python 3"
    },
    "language_info": {
      "name": "python"
    }
  },
  "cells": [
    {
      "cell_type": "markdown",
      "metadata": {
        "id": "view-in-github",
        "colab_type": "text"
      },
      "source": [
        "<a href=\"https://colab.research.google.com/github/BrentBacar/58002-OOP/blob/main/control_structures.ipynb\" target=\"_parent\"><img src=\"https://colab.research.google.com/assets/colab-badge.svg\" alt=\"Open In Colab\"/></a>"
      ]
    },
    {
      "cell_type": "markdown",
      "source": [
        "If Statement"
      ],
      "metadata": {
        "id": "3tUaZFLhkqVJ"
      }
    },
    {
      "cell_type": "code",
      "source": [
        "a=100\n",
        "b=50\n",
        "if a>b:\n",
        "  print(\"a is greater than b\")\n"
      ],
      "metadata": {
        "colab": {
          "base_uri": "https://localhost:8080/"
        },
        "id": "t3f9Vb8Zk3W4",
        "outputId": "f671690f-1ee9-47a6-f0dc-7c3a3e46e5a0"
      },
      "execution_count": 1,
      "outputs": [
        {
          "output_type": "stream",
          "name": "stdout",
          "text": [
            "a is greater than b\n"
          ]
        }
      ]
    },
    {
      "cell_type": "code",
      "source": [
        "#elif statment\n",
        "if a<b:\n",
        "  print(\"a is less than b\")\n",
        "elif a>b:\n",
        "  print (\"a is greater than b\")\n",
        "else:\n",
        "  print(\"a and be are equal\")\n"
      ],
      "metadata": {
        "colab": {
          "base_uri": "https://localhost:8080/"
        },
        "id": "CX6iXPyolP5o",
        "outputId": "e08d1c70-c9c7-40ca-8a05-7cc1368a7d3a"
      },
      "execution_count": 2,
      "outputs": [
        {
          "output_type": "stream",
          "name": "stdout",
          "text": [
            "a is greater than b\n"
          ]
        }
      ]
    },
    {
      "cell_type": "markdown",
      "source": [
        "short hand if...else\n",
        "\n",
        "```\n",
        "# This is formatted as code\n",
        "```\n",
        "\n"
      ],
      "metadata": {
        "id": "U28zslnxmNl3"
      }
    },
    {
      "cell_type": "code",
      "source": [
        "if a==b: print(\"a is equal to b\")\n"
      ],
      "metadata": {
        "id": "9ke0jkovmP-4"
      },
      "execution_count": null,
      "outputs": []
    },
    {
      "cell_type": "markdown",
      "source": [],
      "metadata": {
        "id": "n0hej_UdnFxw"
      }
    },
    {
      "cell_type": "code",
      "source": [
        "a = 200\n",
        "b =33\n",
        "c = 500\n",
        "if a > b or a > c:\n",
        "  print(\"at least one condition is true\")\n"
      ],
      "metadata": {
        "colab": {
          "base_uri": "https://localhost:8080/"
        },
        "id": "YtouBVihnXmQ",
        "outputId": "29a13261-921f-4708-e6ba-06e3e952e478"
      },
      "execution_count": 6,
      "outputs": [
        {
          "output_type": "stream",
          "name": "stdout",
          "text": [
            "at least one condition is true\n"
          ]
        }
      ]
    },
    {
      "cell_type": "code",
      "source": [
        "#and condition\n",
        "s=75\n",
        "t=70\n",
        "if s>t or t<s:\n",
        "  print(\"s>t and t<s \")"
      ],
      "metadata": {
        "colab": {
          "base_uri": "https://localhost:8080/"
        },
        "id": "xdB-b94XnpJ4",
        "outputId": "dbcdcd4d-e35f-477d-c66b-9474bf24f392"
      },
      "execution_count": 7,
      "outputs": [
        {
          "output_type": "stream",
          "name": "stdout",
          "text": [
            "s>t and t<s \n"
          ]
        }
      ]
    },
    {
      "cell_type": "markdown",
      "source": [
        "Or condition"
      ],
      "metadata": {
        "id": "Q9ahL1sEoHRw"
      }
    },
    {
      "cell_type": "code",
      "source": [
        "print(\"s>t and t<s\")"
      ],
      "metadata": {
        "id": "YNkS117KoIqP"
      },
      "execution_count": null,
      "outputs": []
    },
    {
      "cell_type": "markdown",
      "source": [
        "Nested if"
      ],
      "metadata": {
        "id": "fqkA1ICGok3f"
      }
    },
    {
      "cell_type": "code",
      "source": [
        "x = int(input())\n",
        "if x >  10:\n",
        "  print(\"Above ten,\")\n",
        "  if x > 20:\n",
        "    print(\"and also above 20!\")\n",
        "  elif x > 10 and x<20 :\n",
        "    print(\"but not above 20.\")\n",
        "if x>30:\n",
        "    print(\" x above 30\")\n",
        "if x>40:\n",
        "    print(\" x above 40\")\n",
        "if x<50:\n",
        "    print(\"below 50\")\n",
        "\n"
      ],
      "metadata": {
        "colab": {
          "base_uri": "https://localhost:8080/"
        },
        "id": "iWoxRq4HoIu3",
        "outputId": "ec59be21-d94c-496f-d6fb-f886eb4ee9e0"
      },
      "execution_count": 14,
      "outputs": [
        {
          "output_type": "stream",
          "name": "stdout",
          "text": [
            "41\n",
            "Above ten,\n",
            "and also above 20!\n",
            " x above 30\n",
            " x above 40\n",
            "below 50\n"
          ]
        }
      ]
    },
    {
      "cell_type": "markdown",
      "source": [
        "example *1*\n",
        "Write a program that determines if the input ageis qualified to vote or not. The qualifying age is18 years old and above."
      ],
      "metadata": {
        "id": "8aCXzNUbpVBu"
      }
    },
    {
      "cell_type": "code",
      "source": [
        "v = int(input())\n",
        "if v<18:\n",
        "  print(\"not qualified to vote\")\n",
        "else:\n",
        "  print(\"you are qualified to vote\")"
      ],
      "metadata": {
        "colab": {
          "base_uri": "https://localhost:8080/"
        },
        "id": "WCEFcgAnuaxd",
        "outputId": "7c6ccd9b-27b3-49d3-cc54-3380c3233e44"
      },
      "execution_count": 35,
      "outputs": [
        {
          "output_type": "stream",
          "name": "stdout",
          "text": [
            "18\n",
            "you are qualified to vote\n"
          ]
        }
      ]
    },
    {
      "cell_type": "markdown",
      "source": [
        "example 2\n",
        "Write a program that determines if the inputnumber is POSITIVE, NEGATIVE, or ZERO"
      ],
      "metadata": {
        "id": "mODwxx91wtn8"
      }
    },
    {
      "cell_type": "code",
      "source": [
        "i = int(input())\n",
        "if i == 0:\n",
        "  print(\"its zero please add value\")\n",
        "elif i>0:\n",
        "  print(\"its positive\")\n",
        "else:\n",
        "  print(\"its negative\")"
      ],
      "metadata": {
        "colab": {
          "base_uri": "https://localhost:8080/"
        },
        "id": "AJSlC_ULw-m7",
        "outputId": "c0711162-1c35-41e6-b592-86dc2bf61aee"
      },
      "execution_count": 38,
      "outputs": [
        {
          "output_type": "stream",
          "name": "stdout",
          "text": [
            "1\n",
            "its positive\n"
          ]
        }
      ]
    },
    {
      "cell_type": "markdown",
      "source": [
        "example 3\n",
        "\n",
        "Write a program to determine if the grades are:If:grade > = 70 , “Passed”grade is 65 to 69, “Remedial”grade > 64 or below, “Failed”note: if grade is a negative number, it will not *accep*"
      ],
      "metadata": {
        "id": "ug_7LgCYx2Ec"
      }
    },
    {
      "cell_type": "code",
      "source": [
        "# g= to grade \n",
        "g= int(input())\n",
        "if g >100:\n",
        "  print(\"does not apply\")\n",
        "if g>69:\n",
        "  print(\"you have passed\")\n",
        "if g<69:\n",
        "  print(\"please take remedial\")\n",
        "if g<64:\n",
        "  print(\"you are a failure\")"
      ],
      "metadata": {
        "colab": {
          "base_uri": "https://localhost:8080/"
        },
        "id": "_xlbm09LyCy0",
        "outputId": "d7a82a49-31fb-4fc2-a51f-dd3cfdd9dd1d"
      },
      "execution_count": 43,
      "outputs": [
        {
          "output_type": "stream",
          "name": "stdout",
          "text": [
            "101\n",
            "does not apply\n",
            "you have passed\n"
          ]
        }
      ]
    }
  ]
}