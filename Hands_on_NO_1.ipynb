{
  "nbformat": 4,
  "nbformat_minor": 0,
  "metadata": {
    "colab": {
      "provenance": [],
      "authorship_tag": "ABX9TyPxYjfB+sbhem+SFD0hRBjV",
      "include_colab_link": true
    },
    "kernelspec": {
      "name": "python3",
      "display_name": "Python 3"
    },
    "language_info": {
      "name": "python"
    }
  },
  "cells": [
    {
      "cell_type": "markdown",
      "metadata": {
        "id": "view-in-github",
        "colab_type": "text"
      },
      "source": [
        "<a href=\"https://colab.research.google.com/github/BrentBacar/58002-OOP/blob/main/Hands_on_NO_1.ipynb\" target=\"_parent\"><img src=\"https://colab.research.google.com/assets/colab-badge.svg\" alt=\"Open In Colab\"/></a>"
      ]
    },
    {
      "cell_type": "markdown",
      "source": [
        "\n",
        "1 create a python program that displays the name of threee students(student 1, student2, student 3) and the term grades.\n",
        "\n",
        "2 create a class anme person and attributes. std1,std2,std3,pre,mid,fin.\n",
        "\n",
        "3 compute the average of each grade using grade() method.\n",
        "\n",
        "4 information about students grades must be hidden from others."
      ],
      "metadata": {
        "id": "jduMtpmm-7__"
      }
    },
    {
      "cell_type": "code",
      "source": [
        "class Person:\n",
        "  def __init__(self,std, pre, mid, fin):\n",
        "    self.__std = std\n",
        "    self.__pre = pre\n",
        "    self.__mid = mid\n",
        "    self.__fin = fin\n",
        "\n",
        "  def Grade(self):\n",
        "    return (self.__pre + self.__mid + self.__fin)/3\n",
        "\n",
        "  def display(self):\n",
        "    print(\"Name: \",self.__std)\n",
        "    print(\"Prelims: \",self.__pre)\n",
        "    print(\"Midterms: \",self.__mid)\n",
        "    print(\"Finals: \",self.__fin)\n",
        "    print(\"Average: \",self.Grade())\n",
        "    print(\" \")\n",
        "\n",
        "class Student1(Person):\n",
        "  pass\n",
        "class Student2(Person):\n",
        "  pass\n",
        "class Student3(Person):\n",
        "  pass\n",
        "\n",
        "std1 = Student1(\"Student 1\",90,75,78)\n",
        "std1.display()\n",
        "\n",
        "std2 = Student2(\"Student 2\",51,90,77)\n",
        "std2.display()\n",
        "\n",
        "std3 = Student3(\"Student 3\",90,77,68)\n",
        "std3.display()\n",
        "\n",
        "#mangling test (Double UnderScore)\n",
        "std1.std = \"kit\"\n",
        "std1.pre = 88\n",
        "std1.mid = 77\n",
        "std1.fin = 66\n",
        "std1.display()"
      ],
      "metadata": {
        "colab": {
          "base_uri": "https://localhost:8080/"
        },
        "id": "IJnk0h5wIyV-",
        "outputId": "b7ce8e37-fb86-42b7-8b6f-5cac435378e0"
      },
      "execution_count": 5,
      "outputs": [
        {
          "output_type": "stream",
          "name": "stdout",
          "text": [
            "Name:  Student 1\n",
            "Prelims:  95\n",
            "Midterms:  75\n",
            "Finals:  78\n",
            "Average:  82.66666666666667\n",
            " \n",
            "Name:  Student 2\n",
            "Prelims:  51\n",
            "Midterms:  90\n",
            "Finals:  77\n",
            "Average:  72.66666666666667\n",
            " \n",
            "Name:  Student 3\n",
            "Prelims:  80\n",
            "Midterms:  77\n",
            "Finals:  68\n",
            "Average:  75.0\n",
            " \n",
            "Name:  Student 1\n",
            "Prelims:  95\n",
            "Midterms:  75\n",
            "Finals:  78\n",
            "Average:  82.66666666666667\n",
            " \n"
          ]
        }
      ]
    }
  ]
}