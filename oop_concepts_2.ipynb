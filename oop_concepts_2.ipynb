{
  "nbformat": 4,
  "nbformat_minor": 0,
  "metadata": {
    "colab": {
      "provenance": [],
      "authorship_tag": "ABX9TyMZCcDoMj9PedeQRWbFa3l5",
      "include_colab_link": true
    },
    "kernelspec": {
      "name": "python3",
      "display_name": "Python 3"
    },
    "language_info": {
      "name": "python"
    }
  },
  "cells": [
    {
      "cell_type": "markdown",
      "metadata": {
        "id": "view-in-github",
        "colab_type": "text"
      },
      "source": [
        "<a href=\"https://colab.research.google.com/github/BrentBacar/58002-OOP/blob/main/oop_concepts_2.ipynb\" target=\"_parent\"><img src=\"https://colab.research.google.com/assets/colab-badge.svg\" alt=\"Open In Colab\"/></a>"
      ]
    },
    {
      "cell_type": "code",
      "execution_count": 1,
      "metadata": {
        "colab": {
          "base_uri": "https://localhost:8080/"
        },
        "id": "Mhx_QktRHmMr",
        "outputId": "ba1cef92-61c6-461d-fbd9-3a08b5502c54"
      },
      "outputs": [
        {
          "output_type": "stream",
          "name": "stdout",
          "text": [
            "Number of sides: 4\n",
            "Number of sides: 3\n",
            "Number of sides: 0\n",
            "Number of sides: 5\n",
            "Number of sides: 6\n"
          ]
        }
      ],
      "source": [
        "class Shapes:\n",
        "    def __init__(self, sides):\n",
        "        self._sides = sides\n",
        "   \n",
        "    def display_sides(self):\n",
        "        print(\"Number of sides:\", self._sides)\n",
        "\n",
        "class Square(Shapes):\n",
        "    def __init__(self):\n",
        "        super().__init__(4)\n",
        "\n",
        "class Triangle(Shapes):\n",
        "    def __init__(self):\n",
        "        super().__init__(3)\n",
        "\n",
        "class Circle(Shapes):\n",
        "    def __init__(self):\n",
        "        super().__init__(0)\n",
        "\n",
        "class Hexagon(Shapes):\n",
        "    def __init__(self):\n",
        "        super().__init__(6)\n",
        "\n",
        "class Pentagon(Shapes):\n",
        "    def __init__(self):\n",
        "        super().__init__(5)\n",
        "\n",
        "\n",
        "\n",
        "square = Square()\n",
        "square.display_sides()  \n",
        "\n",
        "triangle = Triangle()\n",
        "triangle.display_sides() \n",
        "circle = Circle()\n",
        "circle.display_sides()  \n",
        "\n",
        "pentagon = Pentagon()\n",
        "pentagon.display_sides() \n",
        "\n",
        "hexagon = Hexagon()\n",
        "hexagon.display_sides()  "
      ]
    }
  ]
}