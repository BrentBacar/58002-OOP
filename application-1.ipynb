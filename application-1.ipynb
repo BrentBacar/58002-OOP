{
  "nbformat": 4,
  "nbformat_minor": 0,
  "metadata": {
    "colab": {
      "provenance": [],
      "authorship_tag": "ABX9TyMNJ668/E6jttou428TgBTI",
      "include_colab_link": true
    },
    "kernelspec": {
      "name": "python3",
      "display_name": "Python 3"
    },
    "language_info": {
      "name": "python"
    }
  },
  "cells": [
    {
      "cell_type": "markdown",
      "metadata": {
        "id": "view-in-github",
        "colab_type": "text"
      },
      "source": [
        "<a href=\"https://colab.research.google.com/github/BrentBacar/58002-OOP/blob/main/application-1.ipynb\" target=\"_parent\"><img src=\"https://colab.research.google.com/assets/colab-badge.svg\" alt=\"Open In Colab\"/></a>"
      ]
    },
    {
      "cell_type": "code",
      "execution_count": 1,
      "metadata": {
        "colab": {
          "base_uri": "https://localhost:8080/"
        },
        "id": "zRVzdnsT0EOs",
        "outputId": "526b45dc-bead-4668-d979-0f6afd2e73ef"
      },
      "outputs": [
        {
          "output_type": "stream",
          "name": "stdout",
          "text": [
            "True\n",
            "False\n",
            "False\n"
          ]
        }
      ],
      "source": [
        "\n",
        "print(10>9)\n",
        "print(10<9)\n",
        "print(10==9)\n",
        "\n"
      ]
    },
    {
      "cell_type": "code",
      "source": [
        "a=10\n",
        "b=9\n",
        "print(a>b)\n",
        "print(a<b)\n",
        "print(a==b)\n",
        "print(b==b)"
      ],
      "metadata": {
        "colab": {
          "base_uri": "https://localhost:8080/"
        },
        "id": "AcaahmNT0eUe",
        "outputId": "6aad00cf-e123-4ee7-eede-0243715033c9"
      },
      "execution_count": 2,
      "outputs": [
        {
          "output_type": "stream",
          "name": "stdout",
          "text": [
            "True\n",
            "False\n",
            "False\n",
            "True\n"
          ]
        }
      ]
    },
    {
      "cell_type": "markdown",
      "source": [
        "bool() function"
      ],
      "metadata": {
        "id": "gJg0LsJM011f"
      }
    },
    {
      "cell_type": "code",
      "source": [
        "print(bool(1))\n",
        "print(bool(\"Ana\"))\n",
        "print(bool(0))\n",
        "print(bool(None))\n",
        "print(bool([]))"
      ],
      "metadata": {
        "colab": {
          "base_uri": "https://localhost:8080/"
        },
        "id": "8enunCDQ076W",
        "outputId": "90137e74-761c-454d-ea7e-acdabdcac683"
      },
      "execution_count": 6,
      "outputs": [
        {
          "output_type": "stream",
          "name": "stdout",
          "text": [
            "True\n",
            "True\n",
            "False\n",
            "False\n",
            "False\n"
          ]
        }
      ]
    },
    {
      "cell_type": "markdown",
      "source": [
        "**return bolean**"
      ],
      "metadata": {
        "id": "0cL3kiUg1i-4"
      }
    },
    {
      "cell_type": "code",
      "source": [
        "def myfunction():\n",
        "  return False\n",
        "\n",
        "print(myfunction())\n",
        "\n"
      ],
      "metadata": {
        "colab": {
          "base_uri": "https://localhost:8080/"
        },
        "id": "ZnwkoBCT16yu",
        "outputId": "3c2d149d-430e-40db-cb44-d5c6f5546ade"
      },
      "execution_count": 9,
      "outputs": [
        {
          "output_type": "stream",
          "name": "stdout",
          "text": [
            "False\n"
          ]
        }
      ]
    },
    {
      "cell_type": "code",
      "source": [
        "def myFunction():\n",
        "  return True\n",
        "if myFunction():\n",
        "  print(\"Yes!\")\n",
        "else:\n",
        "  print(\"No!\")"
      ],
      "metadata": {
        "colab": {
          "base_uri": "https://localhost:8080/"
        },
        "id": "BHN4Ey7B2VXV",
        "outputId": "d114382a-1e02-421d-a698-9b913b39cb8f"
      },
      "execution_count": 11,
      "outputs": [
        {
          "output_type": "stream",
          "name": "stdout",
          "text": [
            "Yes!\n"
          ]
        }
      ]
    },
    {
      "cell_type": "code",
      "source": [
        "a=6\n",
        "b=7\n",
        "print(a==b)\n",
        "print(a!=a)"
      ],
      "metadata": {
        "colab": {
          "base_uri": "https://localhost:8080/"
        },
        "id": "TFlKtr4P3bJH",
        "outputId": "20990f46-296c-4459-bff1-a1fbca7d7fd6"
      },
      "execution_count": 12,
      "outputs": [
        {
          "output_type": "stream",
          "name": "stdout",
          "text": [
            "False\n",
            "False\n"
          ]
        }
      ]
    },
    {
      "cell_type": "markdown",
      "source": [
        "python operators"
      ],
      "metadata": {
        "id": "lQOsXcIs4Zyu"
      }
    },
    {
      "cell_type": "code",
      "source": [
        "#addition\n",
        "Print(10+5)\n"
      ],
      "metadata": {
        "id": "iUH68oRE384O"
      },
      "execution_count": null,
      "outputs": []
    },
    {
      "cell_type": "code",
      "source": [
        "#subtration\n",
        "print(10-5)"
      ],
      "metadata": {
        "colab": {
          "base_uri": "https://localhost:8080/"
        },
        "id": "likMRUu74oSs",
        "outputId": "0cf279da-1d16-4a27-fedf-2e12c45d520d"
      },
      "execution_count": 16,
      "outputs": [
        {
          "output_type": "stream",
          "name": "stdout",
          "text": [
            "5\n"
          ]
        }
      ]
    },
    {
      "cell_type": "code",
      "source": [
        "#multiplication\n",
        "print(10*5)"
      ],
      "metadata": {
        "colab": {
          "base_uri": "https://localhost:8080/"
        },
        "id": "CFr5Mysd41i8",
        "outputId": "e7cdc9ea-2e1f-4cb2-ef92-8d050bb58544"
      },
      "execution_count": 17,
      "outputs": [
        {
          "output_type": "stream",
          "name": "stdout",
          "text": [
            "50\n"
          ]
        }
      ]
    },
    {
      "cell_type": "code",
      "source": [
        "#division\n",
        "print(10/5)"
      ],
      "metadata": {
        "colab": {
          "base_uri": "https://localhost:8080/"
        },
        "id": "cCWm3KvW47b9",
        "outputId": "cb4781bf-8951-4729-e03a-c4a153774bf1"
      },
      "execution_count": 18,
      "outputs": [
        {
          "output_type": "stream",
          "name": "stdout",
          "text": [
            "2.0\n"
          ]
        }
      ]
    },
    {
      "cell_type": "code",
      "source": [
        "#floor division\n",
        "print(10//5)"
      ],
      "metadata": {
        "colab": {
          "base_uri": "https://localhost:8080/"
        },
        "id": "xujmcAvY5Js0",
        "outputId": "fd320fd2-b0e1-4f06-9ff8-98c2d4cbaf35"
      },
      "execution_count": 19,
      "outputs": [
        {
          "output_type": "stream",
          "name": "stdout",
          "text": [
            "2\n"
          ]
        }
      ]
    },
    {
      "cell_type": "code",
      "source": [
        "#modulo - \n",
        "print(10%3)"
      ],
      "metadata": {
        "colab": {
          "base_uri": "https://localhost:8080/"
        },
        "id": "WQx60CYx5TM8",
        "outputId": "83c92679-5b84-4488-b0c8-1a24b2082392"
      },
      "execution_count": 21,
      "outputs": [
        {
          "output_type": "stream",
          "name": "stdout",
          "text": [
            "1\n"
          ]
        }
      ]
    },
    {
      "cell_type": "code",
      "source": [
        "#power\n",
        "print(10**2)"
      ],
      "metadata": {
        "colab": {
          "base_uri": "https://localhost:8080/"
        },
        "id": "CtekfVmZ5lIW",
        "outputId": "4b9e6004-eaf6-49f7-837f-3edd9cf8bcb0"
      },
      "execution_count": 23,
      "outputs": [
        {
          "output_type": "stream",
          "name": "stdout",
          "text": [
            "100\n"
          ]
        }
      ]
    },
    {
      "cell_type": "code",
      "source": [
        "#\n",
        "a=60\n",
        "b=13\n",
        "a<<1\n",
        "a>>1"
      ],
      "metadata": {
        "id": "4gsludNZ5we9"
      },
      "execution_count": null,
      "outputs": []
    },
    {
      "cell_type": "markdown",
      "source": [
        "python assignment operators"
      ],
      "metadata": {
        "id": "dAj3y0Ha-GG1"
      }
    },
    {
      "cell_type": "code",
      "source": [
        "x=1\n",
        "x+=3\n",
        "print(x)"
      ],
      "metadata": {
        "colab": {
          "base_uri": "https://localhost:8080/"
        },
        "id": "yfpBbpmA-K50",
        "outputId": "2d060c36-3210-431f-be0d-6740c50f003a"
      },
      "execution_count": 34,
      "outputs": [
        {
          "output_type": "stream",
          "name": "stdout",
          "text": [
            "4\n"
          ]
        }
      ]
    },
    {
      "cell_type": "code",
      "source": [
        "x=1\n",
        "x-=3\n",
        "print(x)"
      ],
      "metadata": {
        "colab": {
          "base_uri": "https://localhost:8080/"
        },
        "id": "WLVmd7bl-o3s",
        "outputId": "0bd1a958-c5dd-4d48-8364-6e9365f76d39"
      },
      "execution_count": 38,
      "outputs": [
        {
          "output_type": "stream",
          "name": "stdout",
          "text": [
            "-2\n"
          ]
        }
      ]
    },
    {
      "cell_type": "code",
      "source": [
        "x=1\n",
        "x*=3\n",
        "print(x)"
      ],
      "metadata": {
        "colab": {
          "base_uri": "https://localhost:8080/"
        },
        "id": "xmnDhEWe-vL8",
        "outputId": "ef2aa7f3-538b-4904-8c48-f4b2bcf52559"
      },
      "execution_count": 35,
      "outputs": [
        {
          "output_type": "stream",
          "name": "stdout",
          "text": [
            "3\n"
          ]
        }
      ]
    },
    {
      "cell_type": "code",
      "source": [
        "x=1\n",
        "x/=3\n",
        "print(x)"
      ],
      "metadata": {
        "colab": {
          "base_uri": "https://localhost:8080/"
        },
        "id": "p_sMEPXN_I_k",
        "outputId": "eb623643-6454-41c2-9641-39adef1b36c6"
      },
      "execution_count": 37,
      "outputs": [
        {
          "output_type": "stream",
          "name": "stdout",
          "text": [
            "0.3333333333333333\n"
          ]
        }
      ]
    },
    {
      "cell_type": "markdown",
      "source": [
        "logical operators"
      ],
      "metadata": {
        "id": "gwulMc-i_zN8"
      }
    },
    {
      "cell_type": "code",
      "source": [
        "y = False\n",
        "x = True\n",
        "print(x)\n"
      ],
      "metadata": {
        "colab": {
          "base_uri": "https://localhost:8080/"
        },
        "id": "ir3Gl66Q_2dk",
        "outputId": "009d3f77-97ea-4cdd-9b3c-1cc09bd1caa0"
      },
      "execution_count": 42,
      "outputs": [
        {
          "output_type": "stream",
          "name": "stdout",
          "text": [
            "True\n"
          ]
        }
      ]
    },
    {
      "cell_type": "markdown",
      "source": [
        "identity operators"
      ],
      "metadata": {
        "id": "Y5hLg9R6BC1F"
      }
    },
    {
      "cell_type": "code",
      "source": [
        "x is not y"
      ],
      "metadata": {
        "colab": {
          "base_uri": "https://localhost:8080/"
        },
        "id": "xRjwnZIRBFmE",
        "outputId": "f9c40e66-89fa-4488-fec3-aa9b2fdc0699"
      },
      "execution_count": 43,
      "outputs": [
        {
          "output_type": "execute_result",
          "data": {
            "text/plain": [
              "True"
            ]
          },
          "metadata": {},
          "execution_count": 43
        }
      ]
    }
  ]
}